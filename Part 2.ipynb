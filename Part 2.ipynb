{
 "cells": [
  {
   "cell_type": "markdown",
   "metadata": {
    "cell_id": "00000-c7690e8f-d9ab-45f8-af3e-df3f63dd37c6",
    "deepnote_cell_type": "markdown",
    "output_cleared": false
   },
   "source": [
    "# Project Part 2 Solutions"
   ]
  },
  {
   "cell_type": "markdown",
   "metadata": {
    "cell_id": "00001-32626d59-0fad-43c9-b16c-3449e182da07",
    "deepnote_cell_type": "markdown",
    "output_cleared": false
   },
   "source": [
    "## (a)"
   ]
  },
  {
   "cell_type": "code",
   "execution_count": 1,
   "metadata": {
    "cell_id": "00002-2e59832e-f5fd-4b89-87af-df470843ab33",
    "deepnote_cell_type": "code",
    "execution_millis": 0,
    "execution_start": 1606363525641,
    "output_cleared": false,
    "source_hash": "eba39436",
    "tags": []
   },
   "outputs": [],
   "source": [
    "import numpy as np\n",
    "import matplotlib.pyplot as plt"
   ]
  },
  {
   "cell_type": "code",
   "execution_count": 2,
   "metadata": {
    "cell_id": "00002-88bb1141-f289-4025-8d72-4bb2e50d2022",
    "deepnote_cell_type": "code",
    "execution_millis": 0,
    "execution_start": 1606363525642,
    "output_cleared": false,
    "source_hash": "29815ca1"
   },
   "outputs": [],
   "source": [
    "file = np.load(\"part2.npz\")\n",
    "beta_old = file['beta_old'] #4 x 4, parameter\n",
    "N = file['N'] #100 thingies\n",
    "Svc_0_PMF = file['Svc_0_PMF'] #100 nodes, each one 4x4\n",
    "Lc = file['Lc'] #array([0.3, 0.4, 0.7, 1. ])\n",
    "Ic_0 = file['Ic_0'] #100 x 4, 100 nodes, 4 c values\n",
    "gamma = file['gamma'] #array(0.07142857)\n",
    "L_observed = file['L_observed'] #(100, 120), 100 nodes, for each node we have 120 days\n",
    "nb_nodes = Svc_0_PMF.shape[0] #100 nodes"
   ]
  },
  {
   "cell_type": "code",
   "execution_count": 3,
   "metadata": {
    "cell_id": "00003-5d24ae24-ab1e-46f8-9593-55a8d0a25d42",
    "deepnote_cell_type": "code",
    "execution_millis": 1,
    "execution_start": 1606363525642,
    "output_cleared": false,
    "source_hash": "3b35d98b"
   },
   "outputs": [],
   "source": [
    "def SIR(t, Z, N, betas, gamma):\n",
    "    (S_vec, I_vec, R) = (Z[:16].reshape(4, 4), Z[16:20], Z[-1])\n",
    "    I = I_vec.sum()\n",
    "    dSdt = -betas*S_vec*I/N \n",
    "    dIdt = -dSdt.sum(axis=0)-gamma*I_vec\n",
    "    dRdt = np.array([gamma*I])\n",
    "    return np.concatenate((dSdt.flatten(), dIdt, dRdt))"
   ]
  },
  {
   "cell_type": "code",
   "execution_count": 4,
   "metadata": {
    "cell_id": "00004-c8c72a0d-5d7d-4888-9bc2-499244680511",
    "deepnote_cell_type": "code",
    "execution_millis": 7103,
    "execution_start": 1606363525643,
    "output_cleared": false,
    "source_hash": "44a536bf"
   },
   "outputs": [
    {
     "name": "stdout",
     "output_type": "stream",
     "text": [
      "Alpha_Predicted Values:\n",
      " [0.22669983 0.39484253 0.22185059 0.73707123 0.70143738 0.20029602\n",
      " 0.35754395 0.35007172 0.3601532  0.16713867 0.27568665 0.32045898\n",
      " 0.31580811 0.20931396 0.12352142 0.22246094 0.18051758 0.56386719\n",
      " 0.59924927 0.14249268 0.26811523 0.27178955 0.49281006 0.26390381\n",
      " 0.33642883 0.15171814 0.3757782  0.21018066 0.44144897 0.68422394\n",
      " 0.29797363 0.3010498  0.39297028 0.16387329 0.61907349 0.66160202\n",
      " 0.3225708  0.15137939 0.28189697 0.90992126 0.41170807 0.43126221\n",
      " 0.43154907 0.17045288 0.24889221 0.41756592 0.71300049 0.330896\n",
      " 0.23173828 0.20965576 0.13822021 0.20452881 0.33418884 0.26639404\n",
      " 0.14807129 0.66747131 0.17644043 0.53582764 0.27561264 0.56835938\n",
      " 0.36387939 0.27543945 0.34067383 0.42473755 0.24645996 0.52313232\n",
      " 0.20018311 0.38779907 0.46865234 0.1552803  0.14443359 0.33525391\n",
      " 0.2932373  0.44838867 0.41690369 0.30296936 0.56982422 0.66409302\n",
      " 0.37408447 0.20103149 0.32358704 0.51626587 0.72009888 0.35155029\n",
      " 0.28358765 0.28780823 0.25011292 0.54241028 0.98475342 0.51790771\n",
      " 0.16503143 0.33059082 0.25706787 0.22650146 0.45488892 0.19622192\n",
      " 0.14606934 0.89589844 0.23728027 0.69208984] \n",
      "\n",
      "Alpha_Predicted Values from Lowest to Highest:\n",
      " [0.12352142 0.13822021 0.14249268 0.14443359 0.14606934 0.14807129\n",
      " 0.15137939 0.15171814 0.1552803  0.16387329 0.16503143 0.16713867\n",
      " 0.17045288 0.17644043 0.18051758 0.19622192 0.20018311 0.20029602\n",
      " 0.20103149 0.20452881 0.20931396 0.20965576 0.21018066 0.22185059\n",
      " 0.22246094 0.22650146 0.22669983 0.23173828 0.23728027 0.24645996\n",
      " 0.24889221 0.25011292 0.25706787 0.26390381 0.26639404 0.26811523\n",
      " 0.27178955 0.27543945 0.27561264 0.27568665 0.28189697 0.28358765\n",
      " 0.28780823 0.2932373  0.29797363 0.3010498  0.30296936 0.31580811\n",
      " 0.32045898 0.3225708  0.32358704 0.33059082 0.330896   0.33418884\n",
      " 0.33525391 0.33642883 0.34067383 0.35007172 0.35155029 0.35754395\n",
      " 0.3601532  0.36387939 0.37408447 0.3757782  0.38779907 0.39297028\n",
      " 0.39484253 0.41170807 0.41690369 0.41756592 0.42473755 0.43126221\n",
      " 0.43154907 0.44144897 0.44838867 0.45488892 0.46865234 0.49281006\n",
      " 0.51626587 0.51790771 0.52313232 0.53582764 0.54241028 0.56386719\n",
      " 0.56835938 0.56982422 0.59924927 0.61907349 0.66160202 0.66409302\n",
      " 0.66747131 0.68422394 0.69208984 0.70143738 0.71300049 0.72009888\n",
      " 0.73707123 0.89589844 0.90992126 0.98475342] \n",
      "\n",
      "Ranks of the Nodes:\n",
      " [26 66 23 96 93 17 59 57 60 11 39 48 47 20  0 24 14 83 86  2 35 36 77 33\n",
      " 55  7 63 22 73 91 44 45 65  9 87 88 49  6 40 98 67 71 72 12 30 69 94 52\n",
      " 27 21  1 19 53 34  5 90 13 81 38 84 61 37 56 70 29 80 16 64 76  8  3 54\n",
      " 43 74 68 46 85 89 62 18 50 78 95 58 41 42 31 82 99 79 10 51 32 25 75 15\n",
      "  4 97 28 92]\n"
     ]
    }
   ],
   "source": [
    "from scipy.integrate import solve_ivp\n",
    "from scipy.optimize import fmin\n",
    "from sklearn.metrics import mean_squared_error\n",
    "\n",
    "Svc_0_PMF /= Svc_0_PMF.sum(axis=(1, 2), keepdims=True)\n",
    "Svc_0 = (N-Ic_0.sum(axis=1))[:, np.newaxis, np.newaxis]*Svc_0_PMF\n",
    "Svc_0 = Svc_0.round().astype(int)\n",
    "R0 = np.zeros((nb_nodes)).astype(int)\n",
    "\n",
    "t = np.linspace(0, 199, 200)\n",
    "\n",
    "S = np.zeros((nb_nodes, 4, 4, len(t)))\n",
    "I = np.zeros((nb_nodes, 4, len(t)))\n",
    "R = np.zeros((nb_nodes, len(t)))\n",
    "L = np.zeros((nb_nodes, len(t)))\n",
    "\n",
    "#N is the total population. Size 100\n",
    "    #N_node is going through the values in N\n",
    "#nb_nodes is 100\n",
    "    #node_index is the range (0, 99)\n",
    "for N_node, node_index in zip(N, range(nb_nodes)):\n",
    "\n",
    "    #Initial conditions updated depending on the node\n",
    "    initial_conditions = np.concatenate(\n",
    "        (Svc_0[node_index].flatten(), Ic_0[node_index], [R0[node_index]]))\n",
    "\n",
    "    soln = solve_ivp(\n",
    "        SIR, (t[0], t[9]), initial_conditions, args=(N_node, beta_old, gamma), t_eval=t[:10])\n",
    "\n",
    "    S[node_index, :, :, :10] = soln.y[:16].reshape(4, 4, -1)\n",
    "    I[node_index, :, :10] = soln.y[16:20]\n",
    "    R[node_index, :10] = soln.y[20]\n",
    "    #goes through all the nodes (rows), but only 10 days (colums 0..9)\n",
    "    L[node_index, :10] = Lc@soln.y[16:20]\n",
    "\n",
    "#print(\"S:\", S[node_index, :, :, 9])\n",
    "#print(\"I:\",I[node_index, :, 9])\n",
    "#print(\"R:\",[R[node_index, 9]])\n",
    "\n",
    "alpha_predicted = np.zeros((nb_nodes))\n",
    "\n",
    "def loss_func(alpha):  \n",
    "    # Solve for values on day 10-29\n",
    "    #Initial conditions on day 9, depending on the node\n",
    "    initial_conditions = np.concatenate(\n",
    "        (S[node_index, :, :, 9].flatten(), I[node_index, :, 9], [R[node_index, 9]]))\n",
    "\n",
    "    soln = solve_ivp(SIR, (t[10], t[29]), initial_conditions, args=(N_node, beta_old*alpha, gamma), t_eval=t[10:30])\n",
    "\n",
    "    S[node_index, :, :, 10:30] = soln.y[:16].reshape(4, 4, -1)\n",
    "    I[node_index, :, 10:30] = soln.y[16:20]\n",
    "    R[node_index, 10:30] = soln.y[20]\n",
    "    #goes through all the nodes (rows), but only 10 days (colums 0..9)\n",
    "    L[node_index, 10:30] = Lc@soln.y[16:20]\n",
    "\n",
    "    # Compare the first 120 columns (days)\n",
    "    mse = mean_squared_error(L_observed[node_index, 10:30], L[node_index,10:30])\n",
    "  \n",
    "    return mse\n",
    "\n",
    "for N_node, node_index in zip(N, range(nb_nodes)):\n",
    "    alpha_predicted[node_index] = fmin(loss_func, 0.5, disp=False)\n",
    "\n",
    "# Print out alpha_predicted\n",
    "print(\"Alpha_Predicted Values:\\n\", alpha_predicted, \"\\n\")\n",
    "\n",
    "# Rank nodes by their alpha values\n",
    "order = alpha_predicted.argsort()\n",
    "ranks = order.argsort()\n",
    "print(\"Alpha_Predicted Values from Lowest to Highest:\\n\", alpha_predicted[order], \"\\n\")\n",
    "print(\"Ranks of the Nodes:\\n\", ranks)"
   ]
  },
  {
   "cell_type": "markdown",
   "metadata": {
    "cell_id": "00005-8d836c81-4e0d-4fb9-b52b-ea42ab7f96ce",
    "deepnote_cell_type": "markdown",
    "output_cleared": false
   },
   "source": [
    "## (b)"
   ]
  },
  {
   "cell_type": "code",
   "execution_count": 5,
   "metadata": {
    "cell_id": "00007-a7da25b6-2fa4-4cad-a7a0-f4eb4a7c8df6",
    "deepnote_cell_type": "code",
    "execution_millis": 11,
    "execution_start": 1606363532750,
    "output_cleared": false,
    "source_hash": "ef2d0a4f",
    "tags": []
   },
   "outputs": [],
   "source": [
    "# Helper functions for total_recovered_difference\n",
    "def getR_predicted(alpha_predicted):\n",
    "    totR = 0\n",
    "    for N_node, node_index in zip(N, range(nb_nodes)):\n",
    "        initial_conditions = np.concatenate((S[node_index, :, :, 9].flatten(), I[node_index, :, 9], [R[node_index, 9]]))\n",
    "\n",
    "        soln = solve_ivp(SIR, (t[10], t[199]), initial_conditions, args=(N_node, beta_old*alpha_predicted[node_index], gamma), t_eval=t[10:200])\n",
    "\n",
    "        S[node_index, :, :, 10:200] = soln.y[:16].reshape(4, 4, -1)\n",
    "        I[node_index, :, 10:200] = soln.y[16:20]\n",
    "        R[node_index, 10:200] = soln.y[20]\n",
    "        #goes through all the nodes (rows), but only 10 days (colums 0..9)\n",
    "        L[node_index, 10:200] = Lc@soln.y[16:20]\n",
    "\n",
    "        totR += R[node_index][-1]\n",
    "\n",
    "    return totR\n",
    "\n",
    "def getR_afterNPI(alpha_afterNPI):\n",
    "    totR = 0\n",
    "    for N_node, node_index in zip(N, range(nb_nodes)):\n",
    "        initial_conditions = np.concatenate((S[node_index, :, :, 29].flatten(), I[node_index, :, 29], [R[node_index, 29]]))\n",
    "\n",
    "        soln = solve_ivp(SIR, (t[30], t[199]), initial_conditions, args=(N_node, beta_old*alpha_afterNPI[node_index], gamma), t_eval=t[30:200])\n",
    "\n",
    "        S[node_index, :, :, 30:200] = soln.y[:16].reshape(4, 4, -1)\n",
    "        I[node_index, :, 30:200] = soln.y[16:20]\n",
    "        R[node_index, 30:200] = soln.y[20]\n",
    "        #goes through all the nodes (rows), but only 10 days (colums 0..9)\n",
    "        L[node_index, 30:200] = Lc@soln.y[16:20]\n",
    "\n",
    "        totR += R[node_index][-1]\n",
    "\n",
    "    return totR"
   ]
  },
  {
   "cell_type": "code",
   "execution_count": 6,
   "metadata": {
    "cell_id": "00006-0511e845-7b52-4e5c-839b-eaa4e488efed",
    "deepnote_cell_type": "code",
    "execution_millis": 0,
    "execution_start": 1606363532769,
    "output_cleared": false,
    "source_hash": "5e9e1e2a"
   },
   "outputs": [],
   "source": [
    "def g(money):\n",
    "    alpha = 1/np.log2(2*10**(-3)*money+2)\n",
    "    return alpha\n",
    "\n",
    "def g_inv(alpha):\n",
    "    money = (2**(1/alpha)-2)/(2*10**(-3))\n",
    "    return money\n",
    "\n",
    "def scatter_plot(alpha_afterNPI):\n",
    "    plt.figure()\n",
    "    colors=(beta_old[np.newaxis,:,:]*Svc_0_PMF).mean(axis=(1,2))\n",
    "    plt.scatter(alpha_predicted, alpha_afterNPI, s=N/500, c=colors, cmap='jet', alpha=0.5)\n",
    "    plt.xlabel(r\"$\\alpha_{own}$\")\n",
    "    plt.ylabel(r\"$\\alpha_{after\\ NPI}$\")\n",
    "\n",
    "def total_recovered_difference(alpha_afterNPI):\n",
    "    \n",
    "    R_old_alpha = getR_predicted(alpha_predicted)\n",
    "    R_afterNPI = getR_afterNPI(alpha_afterNPI)\n",
    "    \n",
    "    return R_afterNPI - R_old_alpha"
   ]
  },
  {
   "cell_type": "markdown",
   "metadata": {
    "cell_id": "00007-6ca136c1-83dc-42ab-86f7-d6465916962e",
    "deepnote_cell_type": "markdown",
    "output_cleared": false
   },
   "source": [
    "### Policy #1"
   ]
  },
  {
   "cell_type": "markdown",
   "metadata": {
    "cell_id": "00010-2837884e-af29-49c2-859a-8bfb70b3699e",
    "deepnote_cell_type": "markdown",
    "output_cleared": false,
    "tags": []
   },
   "source": [
    "i"
   ]
  },
  {
   "cell_type": "code",
   "execution_count": 7,
   "metadata": {
    "cell_id": "00010-ffdf53a0-246d-41d5-8312-a111131f6387",
    "deepnote_cell_type": "code",
    "execution_millis": 181,
    "execution_start": 1606363532771,
    "output_cleared": false,
    "source_hash": "fe712425"
   },
   "outputs": [
    {
     "data": {
      "image/png": "[encoded data removed]",
      "text/plain": [
       "<Figure size 432x288 with 1 Axes>"
      ]
     },
     "metadata": {
      "needs_background": "light"
     },
     "output_type": "display_data"
    }
   ],
   "source": [
    "# Empty placeholder for alpha_NPI\n",
    "alpha_afterNPI = np.zeros(100)\n",
    "\n",
    "# Use g and g_inv to update alpha\n",
    "for i in range(len(alpha_predicted)):\n",
    "    x = g_inv(alpha_predicted[i])\n",
    "    alpha_afterNPI[i] = (g(x + 10000))\n",
    "\n",
    "#print(alpha_afterNPI)\n",
    "\n",
    "scatter_plot(alpha_afterNPI)"
   ]
  },
  {
   "cell_type": "markdown",
   "metadata": {
    "cell_id": "00012-e6b68ef4-a52f-49eb-aa72-1d5a8e729428",
    "deepnote_cell_type": "markdown",
    "output_cleared": false,
    "tags": []
   },
   "source": [
    "ii"
   ]
  },
  {
   "cell_type": "code",
   "execution_count": 8,
   "metadata": {
    "cell_id": "00011-271873e1-9e2b-440b-950e-d9a51b8e0ef0",
    "deepnote_cell_type": "code",
    "execution_millis": 834,
    "execution_start": 1606363532958,
    "output_cleared": false,
    "source_hash": "2fdc3d6c",
    "tags": []
   },
   "outputs": [
    {
     "name": "stdout",
     "output_type": "stream",
     "text": [
      "Total Recovered Difference with Policy 1:  -329893\n"
     ]
    }
   ],
   "source": [
    "print(\"Total Recovered Difference with Policy 1: \", int(total_recovered_difference(alpha_afterNPI)))"
   ]
  },
  {
   "cell_type": "markdown",
   "metadata": {
    "cell_id": "00011-4cdb1fd1-71ab-4f05-83ad-cc6a9adb4fae",
    "deepnote_cell_type": "markdown",
    "output_cleared": false
   },
   "source": [
    "### Policy #2"
   ]
  },
  {
   "cell_type": "markdown",
   "metadata": {
    "cell_id": "00012-74b421e9-262e-44df-b6c1-a182ce58c1d4",
    "deepnote_cell_type": "markdown",
    "output_cleared": false
   },
   "source": [
    "i. "
   ]
  },
  {
   "cell_type": "code",
   "execution_count": 9,
   "metadata": {
    "cell_id": "00014-b54f0ea5-3301-4780-83ee-e309f01ffd84",
    "deepnote_cell_type": "code",
    "execution_millis": 142,
    "execution_start": 1606363533801,
    "output_cleared": false,
    "source_hash": "bcbc1bb9",
    "tags": []
   },
   "outputs": [
    {
     "data": {
      "image/png": "[encoded data removed]",
      "text/plain": [
       "<Figure size 432x288 with 1 Axes>"
      ]
     },
     "metadata": {
      "needs_background": "light"
     },
     "output_type": "display_data"
    }
   ],
   "source": [
    "# Empty placeholder for alpha_NPI\n",
    "alpha_afterNPI = np.zeros(100)\n",
    "\n",
    "# Use g and g_inv to update alpha\n",
    "for i in range(len(alpha_predicted)):\n",
    "    x = g_inv(alpha_predicted[i])\n",
    "    alpha_afterNPI[i] = (g(x + (N[i]/np.sum(N))*1000000))\n",
    "\n",
    "#print(alpha_afterNPI)\n",
    "\n",
    "scatter_plot(alpha_afterNPI)"
   ]
  },
  {
   "cell_type": "markdown",
   "metadata": {
    "cell_id": "00013-334cc66f-8cfb-44fb-bc50-605489b83507",
    "deepnote_cell_type": "markdown",
    "output_cleared": false
   },
   "source": [
    "ii."
   ]
  },
  {
   "cell_type": "code",
   "execution_count": 10,
   "metadata": {
    "cell_id": "00017-3f49c49c-2960-4aee-9695-c1a4b2225502",
    "deepnote_cell_type": "code",
    "execution_millis": 857,
    "execution_start": 1606363533947,
    "output_cleared": false,
    "source_hash": "664f9712",
    "tags": []
   },
   "outputs": [
    {
     "name": "stdout",
     "output_type": "stream",
     "text": [
      "Total Recovered Difference with Policy 2:  -346022\n"
     ]
    }
   ],
   "source": [
    "print(\"Total Recovered Difference with Policy 2: \", int(total_recovered_difference(alpha_afterNPI)))"
   ]
  },
  {
   "cell_type": "markdown",
   "metadata": {
    "cell_id": "00014-dc9da98a-b58e-4344-9e32-44cbc336b48c",
    "deepnote_cell_type": "markdown",
    "output_cleared": false
   },
   "source": [
    "### Policy #3"
   ]
  },
  {
   "cell_type": "markdown",
   "metadata": {
    "cell_id": "00015-1ff16799-6c61-4d0c-90c6-102b032235a4",
    "deepnote_cell_type": "markdown",
    "output_cleared": false
   },
   "source": [
    "i."
   ]
  },
  {
   "cell_type": "code",
   "execution_count": 11,
   "metadata": {
    "cell_id": "00019-54cc1fc6-d0d6-4213-934f-bf47ec104178",
    "deepnote_cell_type": "code",
    "execution_millis": 188,
    "execution_start": 1606363534841,
    "output_cleared": false,
    "source_hash": "685f3165",
    "tags": []
   },
   "outputs": [
    {
     "data": {
      "image/png": "[encoded data removed]",
      "text/plain": [
       "<Figure size 432x288 with 1 Axes>"
      ]
     },
     "metadata": {
      "needs_background": "light"
     },
     "output_type": "display_data"
    }
   ],
   "source": [
    "# Spend the budget such that αown−αafter NPI is the same for all nodes, that is the change in α induced by the NPI is the same for all nodes. To do this, you can again use scipy.optimize.fmin.\n",
    "# Write a function that takes in a value for change in α := ∆α and returns the difference between\n",
    "# the budget that corresponds to this ∆α and $1,000,000. By using fmin on this function we find\n",
    "# the value of ∆α that corresponds to the budget of $1,000,000.\n",
    "\n",
    "#in: ∆α, out: $ \n",
    "\n",
    "def alpha_loss_func(delta):\n",
    "    newdelta = alpha_predicted + delta\n",
    "    total = 0\n",
    "    for i in newdelta:\n",
    "        total += g_inv(i)\n",
    "    return abs(1000000 - total)\n",
    "\n",
    "delta = fmin(alpha_loss_func, 0.5, disp=False)\n",
    "\n",
    "alpha_afterNPI = alpha_predicted - delta\n",
    "\n",
    "scatter_plot(alpha_afterNPI)"
   ]
  },
  {
   "cell_type": "markdown",
   "metadata": {
    "cell_id": "00016-49137a33-9408-4416-9d5f-a98a87861acf",
    "deepnote_cell_type": "markdown",
    "output_cleared": false
   },
   "source": [
    "ii."
   ]
  },
  {
   "cell_type": "code",
   "execution_count": 12,
   "metadata": {
    "cell_id": "00021-e2629fc3-c5fe-4cf6-bb7b-464b16596544",
    "deepnote_cell_type": "code",
    "execution_millis": 827,
    "execution_start": 1606363535032,
    "output_cleared": false,
    "source_hash": "fe99d2e1",
    "tags": []
   },
   "outputs": [
    {
     "name": "stdout",
     "output_type": "stream",
     "text": [
      "Total Recovered Difference with Policy 3:  -7836\n"
     ]
    }
   ],
   "source": [
    "print(\"Total Recovered Difference with Policy 3: \", int(total_recovered_difference(alpha_afterNPI)))"
   ]
  },
  {
   "cell_type": "markdown",
   "metadata": {
    "cell_id": "00017-f21e817f-0932-4a8e-a13e-b2beb86472f4",
    "deepnote_cell_type": "markdown",
    "output_cleared": false
   },
   "source": [
    "### Policy #4"
   ]
  },
  {
   "cell_type": "markdown",
   "metadata": {
    "cell_id": "00018-dc2a4a65-09e6-41b4-9efe-45164c132df8",
    "deepnote_cell_type": "markdown",
    "output_cleared": false
   },
   "source": [
    "i."
   ]
  },
  {
   "cell_type": "markdown",
   "metadata": {
    "cell_id": "00029-db5560c3-eb1d-401e-8eb3-ec64da3ef34a",
    "deepnote_cell_type": "markdown",
    "output_cleared": false,
    "tags": []
   },
   "source": [
    "Spend the budget based on each node's $\\alpha_{own}$ and try to bring all nodes $\\alpha$'s to a similar level"
   ]
  },
  {
   "cell_type": "code",
   "execution_count": 13,
   "metadata": {
    "cell_id": "00028-ede04075-b13a-4018-9ae6-fb84e49d0ddd",
    "deepnote_cell_type": "code",
    "execution_millis": 857,
    "execution_start": 1606363535891,
    "output_cleared": false,
    "source_hash": "77ce6510",
    "tags": []
   },
   "outputs": [
    {
     "data": {
      "image/png": "[encoded data removed]",
      "text/plain": [
       "<Figure size 432x288 with 1 Axes>"
      ]
     },
     "metadata": {
      "needs_background": "light"
     },
     "output_type": "display_data"
    }
   ],
   "source": [
    "alpha_afterNPI = np.zeros(100)\n",
    "\n",
    "def alpha_loss_func2(alpha):\n",
    "    total = 0\n",
    "    for i in alpha_predicted:\n",
    "        # If the target alpha is already lower than a given node's αown, you wouldn't spend any money on it.\n",
    "        if alpha >= i:\n",
    "            total += g_inv(i)    \n",
    "    return(abs(1000000 - total))\n",
    "\n",
    "for N_node, node_index in zip(N, range(nb_nodes)):\n",
    "    alpha_afterNPI[node_index] = fmin(alpha_loss_func2, 0.5, disp=False)\n",
    "\n",
    "#print(alpha_afterNPI)\n",
    "scatter_plot(alpha_afterNPI)"
   ]
  },
  {
   "cell_type": "markdown",
   "metadata": {
    "cell_id": "00019-6bb310bc-910f-4f40-af1f-9795429a9e39",
    "deepnote_cell_type": "markdown",
    "output_cleared": false
   },
   "source": [
    "ii."
   ]
  },
  {
   "cell_type": "code",
   "execution_count": 14,
   "metadata": {
    "cell_id": "00024-16316cf9-e962-42db-b431-394fbe10e82e",
    "deepnote_cell_type": "code",
    "execution_millis": 816,
    "execution_start": 1606363536754,
    "output_cleared": false,
    "source_hash": "3b5eee33",
    "tags": []
   },
   "outputs": [
    {
     "name": "stdout",
     "output_type": "stream",
     "text": [
      "Total Recovered Difference with Policy 4:  -113080\n"
     ]
    }
   ],
   "source": [
    "print(\"Total Recovered Difference with Policy 4: \", int(total_recovered_difference(alpha_afterNPI)))"
   ]
  },
  {
   "cell_type": "markdown",
   "metadata": {
    "cell_id": "00020-70774970-dca7-4576-a8aa-63a8cdb9637a",
    "deepnote_cell_type": "markdown",
    "output_cleared": false
   },
   "source": [
    "## (c)"
   ]
  },
  {
   "cell_type": "markdown",
   "metadata": {
    "cell_id": "00021-822d7d01-1ce2-480f-8d82-b839cbd43541",
    "deepnote_cell_type": "markdown",
    "output_cleared": false
   },
   "source": [
    "### Policy 1"
   ]
  },
  {
   "cell_type": "markdown",
   "metadata": {
    "cell_id": "00030-9af54b6b-6203-4fe0-985a-ef1d3ed32dd1",
    "deepnote_cell_type": "markdown",
    "output_cleared": false,
    "tags": []
   },
   "source": [
    "This pollicy is fair in some senses because we give each node the same amount of money which makes it so that there is less bias involved. However, one may also have to consider the fact that some of the nodes may need the money more than others, for example places that are already doing well may not need the money. From a utalitarian stand point, saving the most amount of lives possible the most fair way to go about this, therefore because there are more recovered people than not it can be seen as fair."
   ]
  },
  {
   "cell_type": "markdown",
   "metadata": {
    "cell_id": "00022-667bef73-61ab-40f5-99b8-41e2d5da3a7f",
    "deepnote_cell_type": "markdown",
    "output_cleared": false
   },
   "source": [
    "### Policy 2"
   ]
  },
  {
   "cell_type": "markdown",
   "metadata": {
    "cell_id": "00032-ab32bac2-1769-4395-b696-b8ed10216caa",
    "deepnote_cell_type": "markdown",
    "output_cleared": false,
    "tags": []
   },
   "source": [
    "Spending according to the population of the node can be seen through the lense of fairness because it is a logical assumption to assume that in areas that are more densely populated more money may be needed in order to help the populalation at large. On the other hand, it is possible to see it from the perpective that an area with a smaller population may need more resources than an area with a greater population. Furthermore, the economics and other factors are not being looked at from this point of view. From the utalitarian point of view this is the policy that makes the most sense because it is theoretically helping the most people."
   ]
  },
  {
   "cell_type": "markdown",
   "metadata": {
    "cell_id": "00023-be7d0486-e824-42a5-b492-6dfe5468ab0e",
    "deepnote_cell_type": "markdown",
    "output_cleared": false
   },
   "source": [
    "### Policy 3"
   ]
  },
  {
   "cell_type": "markdown",
   "metadata": {
    "cell_id": "00034-44b74cff-6caf-4fbb-8236-45b9525f470e",
    "deepnote_cell_type": "markdown",
    "output_cleared": false,
    "tags": []
   },
   "source": [
    "By spending the budget to make up for the fact that some populations have larger alpha values than other populations, we are effectively offsetting the 'disadvantage' certain populations may have as a result of having a lower alpha value (this may be correlated with the communities understanding of the virus being lower which then may make sense to spend more money on increased awareness). Where this may be a major con is that it may be over-considering the importance of the alpha value and not distributing the money correctly. Given a lack of understanding in the importance in how each paramter effects the population, it may be considered fair to go about this method if this is the best of the knowledge available."
   ]
  },
  {
   "cell_type": "markdown",
   "metadata": {
    "cell_id": "00024-de473bb9-bacb-43ee-8f98-f8a185209cdc",
    "deepnote_cell_type": "markdown",
    "output_cleared": false
   },
   "source": [
    "### Policy 4"
   ]
  },
  {
   "cell_type": "markdown",
   "metadata": {
    "cell_id": "00036-85d18486-9baf-4a89-add7-a6441cb75670",
    "deepnote_cell_type": "markdown",
    "output_cleared": false,
    "tags": []
   },
   "source": [
    "By equalizing the alpha values, our situation results in equity for everyone. This means that regardless of N, v, and c values, we will have the same outcome for every node. This can seem fair at first glance, but if you look closer you'll notice that there will undoubtedly be nodes that start off with a higher value. These populations will not receive budgeting; and although our intentions are pure, people will not take kindly to not receiving funding for their homes. Thus, this is not an optimal way to disburse funding for the NPI, as many people will not be happy."
   ]
  }
 ],
 "metadata": {
  "deepnote_execution_queue": [],
  "deepnote_notebook_id": "c3a11264-f5b4-4b90-b191-92b434cdf042",
  "kernelspec": {
   "display_name": "Python 3",
   "language": "python",
   "name": "python3"
  },
  "language_info": {
   "codemirror_mode": {
    "name": "ipython",
    "version": 3
   },
   "file_extension": ".py",
   "mimetype": "text/x-python",
   "name": "python",
   "nbconvert_exporter": "python",
   "pygments_lexer": "ipython3",
   "version": "3.7.6"
  }
 },
 "nbformat": 4,
 "nbformat_minor": 2
}
